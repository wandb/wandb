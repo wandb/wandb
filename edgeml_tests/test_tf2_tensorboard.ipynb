{
 "cells": [
  {
   "cell_type": "code",
   "execution_count": 1,
   "metadata": {},
   "outputs": [
    {
     "name": "stderr",
     "output_type": "stream",
     "text": [
      "WARNING: Logging before flag parsing goes to stderr.\n",
      "W1118 20:32:54.187056 4717663680 _import_c_extension.py:41] This caffe2 python run does not have GPU support. Will run in CPU only mode.\n"
     ]
    },
    {
     "data": {
      "text/html": [
       "\n",
       "                Logging results to <a href=\"https://wandb.com\" target=\"_blank\">Weights & Biases</a> <a href=\"https://docs.wandb.com/integrations/jupyter.html\" target=\"_blank\">(Documentation)</a>.<br/>\n",
       "                Project page: <a href=\"http://test/mock_server_entity/tf2-board\" target=\"_blank\">http://test/mock_server_entity/tf2-board</a><br/>\n",
       "                Run page: <a href=\"http://test/mock_server_entity/tf2-board/runs/26di9m0z\" target=\"_blank\">http://test/mock_server_entity/tf2-board/runs/26di9m0z</a><br/>\n",
       "            "
      ],
      "text/plain": [
       "<IPython.core.display.HTML object>"
      ]
     },
     "metadata": {},
     "output_type": "display_data"
    },
    {
     "data": {
      "text/plain": [
       "W&B Run: http://test/mock_server_entity/test/runs/26di9m0z"
      ]
     },
     "execution_count": 1,
     "metadata": {},
     "output_type": "execute_result"
    }
   ],
   "source": [
    "\"\"\"setup\"\"\"\n",
    "import json\n",
    "from unittest import mock as mocker\n",
    "from mock_server import create_app\n",
    "import utils\n",
    "import os\n",
    "import tempfile\n",
    "import tensorflow as tf\n",
    "import wandb\n",
    "wandb.reset_env()\n",
    "app = create_app(resume=False)\n",
    "mock = utils.RequestsMock(app.test_client(), {})\n",
    "mocker.patch(\"gql.transport.requests.requests\", mock).start()\n",
    "mocker.patch(\"wandb.apis.file_stream.requests\", mock).start()\n",
    "mocker.patch(\"wandb.apis.internal.requests\", mock).start()\n",
    "\n",
    "os.chdir(tempfile.gettempdir())\n",
    "os.environ[wandb.env.ENTITY] = \"mock_server_entity\"\n",
    "os.environ[wandb.env.API_KEY] = \"0\" * 40\n",
    "os.environ[wandb.env.BASE_URL] = \"http://test\"\n",
    "\n",
    "wandb.init(project=\"tf2-board\", sync_tensorboard=True)"
   ]
  },
  {
   "cell_type": "code",
   "execution_count": 2,
   "metadata": {},
   "outputs": [],
   "source": [
    "\"\"\"test_summary_writer\"\"\"\n",
    "writer = tf.summary.create_file_writer(\".\")\n",
    "with writer.as_default():\n",
    "    for i in range(10):\n",
    "        tf.summary.scalar('loss', i, step=i)"
   ]
  },
  {
   "cell_type": "code",
   "execution_count": 3,
   "metadata": {},
   "outputs": [
    {
     "name": "stdout",
     "output_type": "stream",
     "text": [
      "{'global_step': 9, '_timestamp': 1574113548.313594, 'loss': 9.0, '_runtime': 1.181638240814209, '_step': 9}\n"
     ]
    }
   ],
   "source": [
    "parsed = [json.loads(line) for line in open(\"{}/wandb-history.jsonl\".format(wandb.run.dir)).readlines()]\n",
    "print(parsed[-1])"
   ]
  },
  {
   "cell_type": "code",
   "execution_count": 4,
   "metadata": {},
   "outputs": [
    {
     "data": {
      "text/html": [
       "\n",
       "                Logging results to <a href=\"https://wandb.com\" target=\"_blank\">Weights & Biases</a> <a href=\"https://docs.wandb.com/integrations/jupyter.html\" target=\"_blank\">(Documentation)</a>.<br/>\n",
       "                Project page: <a href=\"http://test/mock_server_entity/tf2-board\" target=\"_blank\">http://test/mock_server_entity/tf2-board</a><br/>\n",
       "                Run page: <a href=\"http://test/mock_server_entity/tf2-board/runs/2kn8haud\" target=\"_blank\">http://test/mock_server_entity/tf2-board/runs/2kn8haud</a><br/>\n",
       "            "
      ],
      "text/plain": [
       "<IPython.core.display.HTML object>"
      ]
     },
     "metadata": {},
     "output_type": "display_data"
    }
   ],
   "source": [
    "\"\"\"test_second_init\"\"\"\n",
    "wandb.init(project=\"tf2-board\", sync_tensorboard=True)\n",
    "wandb.log({\"cool\": 1})"
   ]
  },
  {
   "cell_type": "code",
   "execution_count": 5,
   "metadata": {},
   "outputs": [
    {
     "data": {
      "text/plain": [
       "{'cool': 1,\n",
       " '_runtime': 4.047835826873779,\n",
       " '_timestamp': 1574113567.1933959,\n",
       " '_step': 0}"
      ]
     },
     "execution_count": 5,
     "metadata": {},
     "output_type": "execute_result"
    }
   ],
   "source": [
    "\"\"\"test_bam\"\"\"\n",
    "lines = [json.loads(line) for line in open(\"{}/wandb-history.jsonl\".format(wandb.run.dir)).readlines()]\n",
    "lines[-1]"
   ]
  }
 ],
 "metadata": {
  "kernelspec": {
   "display_name": "Python 3",
   "language": "python",
   "name": "python3"
  },
  "language_info": {
   "codemirror_mode": {
    "name": "ipython",
    "version": 3
   },
   "file_extension": ".py",
   "mimetype": "text/x-python",
   "name": "python",
   "nbconvert_exporter": "python",
   "pygments_lexer": "ipython3",
   "version": "3.6.4"
  }
 },
 "nbformat": 4,
 "nbformat_minor": 4
}
