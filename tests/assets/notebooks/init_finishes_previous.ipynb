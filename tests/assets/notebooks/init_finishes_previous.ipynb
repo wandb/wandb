{
 "cells": [
  {
   "cell_type": "code",
   "execution_count": null,
   "metadata": {},
   "outputs": [],
   "source": [
    "import wandb\n",
    "\n",
    "run1 = wandb.init()\n",
    "run2 = wandb.init()"
   ]
  },
  {
   "cell_type": "code",
   "execution_count": null,
   "metadata": {},
   "outputs": [],
   "source": [
    "print(f\"run1 finished? {run1._is_finished}\")\n",
    "print(f\"run1 is run2? {run1 is run2}\")"
   ]
  }
 ],
 "metadata": {
  "language_info": {
   "name": "python"
  }
 },
 "nbformat": 4,
 "nbformat_minor": 2
}
