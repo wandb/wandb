{
 "cells": [
  {
   "cell_type": "code",
   "execution_count": null,
   "metadata": {},
   "outputs": [],
   "source": [
    "import time\n",
    "\n",
    "import wandb\n",
    "\n",
    "run1 = wandb.init()\n",
    "\n",
    "# TODO(WB-23893): Remove after fixing bug.\n",
    "#\n",
    "# The sleep is necessary because both runs have the same ID because the notebook\n",
    "# test fixture sets the WANDB_RUN_ID environment variable. If the runs are\n",
    "# created too close together, they get assigned the same directory which causes\n",
    "# a crash.\n",
    "time.sleep(1)\n",
    "\n",
    "run2 = wandb.init()"
   ]
  },
  {
   "cell_type": "code",
   "execution_count": null,
   "metadata": {},
   "outputs": [],
   "source": [
    "print(f\"run1 finished? {run1._is_finished}\")\n",
    "print(f\"run1 is run2? {run1 is run2}\")"
   ]
  }
 ],
 "metadata": {
  "language_info": {
   "name": "python"
  }
 },
 "nbformat": 4,
 "nbformat_minor": 2
}
